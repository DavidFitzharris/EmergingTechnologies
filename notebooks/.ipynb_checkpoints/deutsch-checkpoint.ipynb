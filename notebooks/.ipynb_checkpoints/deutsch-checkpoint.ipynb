{
 "cells": [
  {
   "cell_type": "markdown",
   "id": "8df6ad83",
   "metadata": {},
   "source": [
    "<h1 style=\"color: rgb(0, 175, 100); text-align: center;\">The Deutsch Algorithm</h1>\n",
    "\n",
    "<hr style=\"border-top: 2px solid rgb(0, 120, 60)\" />"
   ]
  },
  {
   "cell_type": "markdown",
   "id": "33528489",
   "metadata": {},
   "source": [
    "<h2 style=\"color: rgb(0, 125, 65)\">First Look</h2>\n",
    "\n",
    "<hr style=\"border-top: 1px solid rgb(0, 120, 60)\" />\n",
    "\n",
    "<p>The Deutsch-Jozsa algorithm was a groundbreaking step because it was the first quantum algorithm that could solve a problem faster than any traditional computer algorithm. It highlighted that quantum computers could be really useful tools for solving certain specific problems. To understand how it did this we'll look at the problem it tackled, the classic solution to it and then going into the quantum soltion </p>"
   ]
  },
  {
   "cell_type": "markdown",
   "id": "6e43a291",
   "metadata": {},
   "source": [
    "<h2 style=\"color: rgb(0, 125, 65)\">Overview: Problem & Solution</h2>\n",
    "\n",
    "<hr style=\"border-top: 1px solid rgb(0, 120, 60)\" />\n",
    "\n",
    "<p>    \n",
    "You have a person with 100 hands, each hiding a coin that can be either heads or tails. There are 2^100 possible combinations of outcomes. To figure out if the outcomes are constant (all heads or all tails) or balanced (equal number of heads and tails), you might need to check up to 51 hands in the worst case using a <b> classical computer.</b><br>\n",
    "\n",
    "<b>The Quantum Solution:</b><br>\n",
    "With a quantum computer, you can solve this problem by checking all hands at once, without going through them one by one.\n",
    "For simplicity, let's represent heads as 0 and tails as 1.\n",
    "Now, each hand's result can be seen as applying a function 'f' to a single bit (0 or 1) that gives f(0) or f(1).\n",
    "If f(0) = f(1), then 'f' is constant (all 0s or all 1s); otherwise, it is balanced (equal 0s and 1s).\n",
    "    \n",
    "In summary, the problem of determining if the hidden coins result in a constant or balanced outcome can be solved much more quickly using a quantum computer, which can check all hands simultaneously, rather than one by one as with a classical computer.\n",
    "</p>"
   ]
  }
 ],
 "metadata": {
  "kernelspec": {
   "display_name": "Python 3 (ipykernel)",
   "language": "python",
   "name": "python3"
  },
  "language_info": {
   "codemirror_mode": {
    "name": "ipython",
    "version": 3
   },
   "file_extension": ".py",
   "mimetype": "text/x-python",
   "name": "python",
   "nbconvert_exporter": "python",
   "pygments_lexer": "ipython3",
   "version": "3.9.13"
  }
 },
 "nbformat": 4,
 "nbformat_minor": 5
}
