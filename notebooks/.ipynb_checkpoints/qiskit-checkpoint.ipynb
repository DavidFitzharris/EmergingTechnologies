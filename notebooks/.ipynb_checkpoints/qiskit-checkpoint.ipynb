{
 "cells": [
  {
   "cell_type": "markdown",
   "id": "68096c0e",
   "metadata": {},
   "source": [
    "<img src=\"imgs\\qiskitlogo.png\" alt=\"Qiskit Logo\" width=\"20%\" height=\"10%\">\n",
    "<h2 style=\"color: rgb(0, 175, 100); text-align: center;\">An Open Source SDK</h2>\n",
    "\n",
    "<hr style=\"border-top: 2px solid rgb(0, 120, 60)\" />"
   ]
  },
  {
   "cell_type": "markdown",
   "id": "9075b31a",
   "metadata": {},
   "source": [
    "<h1 style=\"color: rgb(0, 125, 65)\">Introduction</h1>\n",
    "\n",
    "<hr style=\"border-top: 1px solid rgb(0, 120, 60)\" />\n",
    "\n",
    "<p> Qiskit , created by IBM, is an open-source  software development kit (SDK) for quantum computing. Its name's acronym stands for \"Quantum Information Software Kit\". It is used for working with quantum computers at the level of circuits, algorithms and application modules. It allows for anyone who is willing, to work on quantom computers from home PC's, laptops and other suitable devices. It gives the opportunity for developers, researchers or those just curiose to work in the world of quantum computing, creating things such as building quantum circuits and study quantum phenomena</p>"
   ]
  },
  {
   "cell_type": "markdown",
   "id": "977ba079",
   "metadata": {},
   "source": [
    "<h1 style=\"color: rgb(0, 125, 65)\">Quantum Circuits</h1>\n",
    "\n",
    "<hr style=\"border-top: 1px solid rgb(0, 120, 60)\" />\n",
    "\n",
    "<p>The fundamental unit of Qiskit is the quantum circuit, as discussed earlier. A basic workflow using Qiskit involves two main stages: Build and Run. The Build stage allows you to create various quantum circuits that represent the problem you are trying to solve. These circuits are created by arranging quantum gates to manipulate the states of qubits. Once the circuits are built, the Run stage allows you to execute them on different backends, which can be either quantum simulators or actual quantum hardware. After the jobs have been executed, the data collected is then postprocessed depending on the desired output. Therefore, working with Qiskit essentially involves creating quantum circuits to represent your problem, running them on the desired backend, and then postprocessing the collected data to obtain the final result.(https://qiskit.org/documentation/tutorials/circuits/01_circuit_basics.html) </p>"
   ]
  }
 ],
 "metadata": {
  "kernelspec": {
   "display_name": "Python 3 (ipykernel)",
   "language": "python",
   "name": "python3"
  },
  "language_info": {
   "codemirror_mode": {
    "name": "ipython",
    "version": 3
   },
   "file_extension": ".py",
   "mimetype": "text/x-python",
   "name": "python",
   "nbconvert_exporter": "python",
   "pygments_lexer": "ipython3",
   "version": "3.9.13"
  }
 },
 "nbformat": 4,
 "nbformat_minor": 5
}
