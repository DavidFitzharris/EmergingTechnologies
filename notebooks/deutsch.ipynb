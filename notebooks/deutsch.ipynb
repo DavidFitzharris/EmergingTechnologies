{
 "cells": [
  {
   "cell_type": "markdown",
   "id": "8df6ad83",
   "metadata": {},
   "source": [
    "<h1 style=\"color: rgb(0, 175, 100); text-align: center;\">The Deutsch Algorithm</h1>\n",
    "\n",
    "<hr style=\"border-top: 2px solid rgb(0, 120, 60)\" />"
   ]
  },
  {
   "cell_type": "markdown",
   "id": "33528489",
   "metadata": {},
   "source": [
    "<h2 style=\"color: rgb(0, 125, 65)\">First Look</h2>\n",
    "\n",
    "<hr style=\"border-top: 1px solid rgb(0, 120, 60)\" />\n",
    "\n",
    "<p>The Deutsch-Jozsa algorithm was a groundbreaking step because it was the first quantum algorithm that could solve a problem faster than any traditional computer algorithm. It highlighted that quantum computers could be really useful tools for solving certain specific problems. To understand how it did this we'll look at the problem it tackled, the classic solution to it and then going into the quantum soltion </p>"
   ]
  },
  {
   "cell_type": "markdown",
   "id": "6e43a291",
   "metadata": {},
   "source": [
    "<h2 style=\"color: rgb(0, 125, 65)\">Overview: Problem & Solution</h2>\n",
    "\n",
    "<hr style=\"border-top: 1px solid rgb(0, 120, 60)\" />\n",
    "\n",
    "<p>    \n",
    "You have a person with 100 hands, each hiding a coin that can be either heads or tails. There are 2^100 possible combinations of outcomes. To figure out if the outcomes are constant (all heads or all tails) or balanced (equal number of heads and tails), you might need to check up to 51 hands in the worst case using a <b> classical computer.</b><br>\n",
    "\n",
    "<b>The Quantum Solution:</b><br>\n",
    "With a quantum computer, you can solve this problem by checking all hands at once, without going through them one by one.\n",
    "For simplicity, let's represent heads as 0 and tails as 1.\n",
    "Now, each hand's result can be seen as applying a function 'f' to a single bit (0 or 1) that gives f(0) or f(1).\n",
    "If f(0) = f(1), then 'f' is constant (all 0s or all 1s); otherwise, it is balanced (equal 0s and 1s).\n",
    "    \n",
    "In summary, the problem of determining if the hidden coins result in a constant or balanced outcome can be solved much more quickly using a quantum computer, which can check all hands simultaneously, rather than one by one as with a classical computer.\n",
    "</p>"
   ]
  },
  {
   "cell_type": "markdown",
   "id": "8835225c",
   "metadata": {},
   "source": [
    "<h2 style=\"color: rgb(0, 125, 65)\">Qiskit Implementation</h2>"
   ]
  },
  {
   "cell_type": "code",
   "execution_count": 1,
   "id": "fe24795a",
   "metadata": {},
   "outputs": [
    {
     "data": {
      "text/html": [
       "<pre style=\"word-wrap: normal;white-space: pre;background: #fff0;line-height: 1.1;font-family: &quot;Courier New&quot;,Courier,monospace\">          \n",
       "q_0: ─────\n",
       "          \n",
       "q_1: ─────\n",
       "          \n",
       "q_2: ─────\n",
       "     ┌───┐\n",
       "q_3: ┤ X ├\n",
       "     └───┘</pre>"
      ],
      "text/plain": [
       "          \n",
       "q_0: ─────\n",
       "          \n",
       "q_1: ─────\n",
       "          \n",
       "q_2: ─────\n",
       "     ┌───┐\n",
       "q_3: ┤ X ├\n",
       "     └───┘"
      ]
     },
     "execution_count": 1,
     "metadata": {},
     "output_type": "execute_result"
    }
   ],
   "source": [
    "# initialization\n",
    "import numpy as np\n",
    "\n",
    "# importing Qiskit\n",
    "from qiskit import IBMQ, Aer\n",
    "from qiskit import QuantumCircuit, transpile\n",
    "\n",
    "# import basic plot tools\n",
    "from qiskit.visualization import plot_histogram\n",
    "\n",
    "# set the length of the n-bit input string. \n",
    "n = 3\n",
    "\n",
    "# Constant Oracle\n",
    "\n",
    "const_oracle = QuantumCircuit(n+1)\n",
    "\n",
    "# Random output \n",
    "output = np.random.randint(2)\n",
    "if output == 1:\n",
    "    const_oracle.x(n)\n",
    "\n",
    "const_oracle.draw()"
   ]
  },
  {
   "cell_type": "code",
   "execution_count": 2,
   "id": "b7ca3d3c",
   "metadata": {},
   "outputs": [
    {
     "data": {
      "text/html": [
       "<pre style=\"word-wrap: normal;white-space: pre;background: #fff0;line-height: 1.1;font-family: &quot;Courier New&quot;,Courier,monospace\">     ┌───┐\n",
       "q_0: ┤ X ├\n",
       "     └───┘\n",
       "q_1: ─────\n",
       "     ┌───┐\n",
       "q_2: ┤ X ├\n",
       "     └───┘\n",
       "q_3: ─────\n",
       "          </pre>"
      ],
      "text/plain": [
       "     ┌───┐\n",
       "q_0: ┤ X ├\n",
       "     └───┘\n",
       "q_1: ─────\n",
       "     ┌───┐\n",
       "q_2: ┤ X ├\n",
       "     └───┘\n",
       "q_3: ─────\n",
       "          "
      ]
     },
     "execution_count": 2,
     "metadata": {},
     "output_type": "execute_result"
    }
   ],
   "source": [
    "# Balanced Oracle\n",
    "\n",
    "balanced_oracle = QuantumCircuit(n+1)\n",
    "\n",
    "# Binary string length\n",
    "b_str = \"101\"\n",
    "\n",
    "# For each qubit in our circuit \n",
    "# we place an X-gate if the corresponding digit in b_str is 1\n",
    "# or do nothing if the digit is 0\n",
    "\n",
    "balanced_oracle = QuantumCircuit(n+1)\n",
    "b_str = \"101\"\n",
    "\n",
    "# Place X-gates\n",
    "for qubit in range(len(b_str)):\n",
    "    if b_str[qubit] == '1':\n",
    "        balanced_oracle.x(qubit)\n",
    "balanced_oracle.draw()"
   ]
  },
  {
   "cell_type": "code",
   "execution_count": 4,
   "id": "109616ce",
   "metadata": {},
   "outputs": [
    {
     "data": {
      "text/html": [
       "<pre style=\"word-wrap: normal;white-space: pre;background: #fff0;line-height: 1.1;font-family: &quot;Courier New&quot;,Courier,monospace\">     ┌───┐ ░                 ░ ┌───┐\n",
       "q_0: ┤ X ├─░───■─────────────░─┤ X ├\n",
       "     └───┘ ░   │             ░ └───┘\n",
       "q_1: ──────░───┼────■────────░──────\n",
       "     ┌───┐ ░   │    │        ░ ┌───┐\n",
       "q_2: ┤ X ├─░───┼────┼────■───░─┤ X ├\n",
       "     └───┘ ░ ┌─┴─┐┌─┴─┐┌─┴─┐ ░ └───┘\n",
       "q_3: ──────░─┤ X ├┤ X ├┤ X ├─░──────\n",
       "           ░ └───┘└───┘└───┘ ░      </pre>"
      ],
      "text/plain": [
       "     ┌───┐ ░                 ░ ┌───┐\n",
       "q_0: ┤ X ├─░───■─────────────░─┤ X ├\n",
       "     └───┘ ░   │             ░ └───┘\n",
       "q_1: ──────░───┼────■────────░──────\n",
       "     ┌───┐ ░   │    │        ░ ┌───┐\n",
       "q_2: ┤ X ├─░───┼────┼────■───░─┤ X ├\n",
       "     └───┘ ░ ┌─┴─┐┌─┴─┐┌─┴─┐ ░ └───┘\n",
       "q_3: ──────░─┤ X ├┤ X ├┤ X ├─░──────\n",
       "           ░ └───┘└───┘└───┘ ░      "
      ]
     },
     "execution_count": 4,
     "metadata": {},
     "output_type": "execute_result"
    }
   ],
   "source": [
    "# Creating the controlled-NOT gates \n",
    "# using each input qubit as a control \n",
    "# and the output as a target\n",
    "\n",
    "balanced_oracle = QuantumCircuit(n+1)\n",
    "b_str = \"101\"\n",
    "\n",
    "# Place X-gates\n",
    "for qubit in range(len(b_str)):\n",
    "    if b_str[qubit] == '1':\n",
    "        balanced_oracle.x(qubit)\n",
    "\n",
    "# Use barrier as divider\n",
    "balanced_oracle.barrier()\n",
    "\n",
    "# Controlled-NOT gates\n",
    "for qubit in range(n):\n",
    "    balanced_oracle.cx(qubit, n)\n",
    "\n",
    "balanced_oracle.barrier()\n",
    "\n",
    "# Wrapping the controls in X-gates\n",
    "# Place X-gates\n",
    "for qubit in range(len(b_str)):\n",
    "    if b_str[qubit] == '1':\n",
    "        balanced_oracle.x(qubit)\n",
    "\n",
    "# Show oracle\n",
    "balanced_oracle.draw()"
   ]
  },
  {
   "cell_type": "markdown",
   "id": "58774096",
   "metadata": {},
   "source": [
    "<p> The steps outlined provide the necessary circuits for implementing the Deutsch-Jozsa algorithm, which can be used to determine if a function is constant or balanced with a single quantum query. The specific steps here set up the constant and balanced oracles needed for the algorithm. Next we can put everything together and go through the full algorithm<p>\n",
    "    \n",
    "<h3 style=\"color: rgb(0, 125, 65)\">The Algorithm</h3>\n",
    "    "
   ]
  }
 ],
 "metadata": {
  "kernelspec": {
   "display_name": "Python 3 (ipykernel)",
   "language": "python",
   "name": "python3"
  },
  "language_info": {
   "codemirror_mode": {
    "name": "ipython",
    "version": 3
   },
   "file_extension": ".py",
   "mimetype": "text/x-python",
   "name": "python",
   "nbconvert_exporter": "python",
   "pygments_lexer": "ipython3",
   "version": "3.9.13"
  }
 },
 "nbformat": 4,
 "nbformat_minor": 5
}
