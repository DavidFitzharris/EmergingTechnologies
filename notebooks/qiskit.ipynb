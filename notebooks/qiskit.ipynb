{
 "cells": [
  {
   "cell_type": "markdown",
   "id": "68096c0e",
   "metadata": {},
   "source": [
    "<h1 style=\"color: rgb(0, 125, 65); text-align: center;\" >Qiskit</h1>\n",
    "<img src=\"imgs\\qiskitlogo.png\" alt=\"Qiskit Logo\" width=\"10%\" height=\"10%\">\n",
    "<h2 style=\"color: rgb(0, 175, 100); text-align: center;\">An Open Source SDK</h2>\n",
    "\n",
    "<hr style=\"border-top: 2px solid rgb(0, 120, 60)\" />"
   ]
  },
  {
   "cell_type": "markdown",
   "id": "9075b31a",
   "metadata": {},
   "source": [
    "<h1 style=\"color: rgb(0, 125, 65)\">Introduction</h1>\n",
    "\n",
    "<hr style=\"border-top: 1px solid rgb(0, 120, 60)\" />\n",
    "\n",
    "<p> Qiskit , created by IBM, is an open-source  software development kit (SDK) for quantum computing. Its name's acronym stands for \"Quantum Information Software Kit\". It is used for working with quantum computers at the level of circuits, algorithms and application modules. It allows for anyone who is willing, to work on quantom computers from home PC's, laptops and other suitable devices. It gives the opportunity for developers, researchers or those just curiose to work in the world of quantum computing, creating things such as building quantum circuits and study quantum phenomena</p>"
   ]
  },
  {
   "cell_type": "markdown",
   "id": "977ba079",
   "metadata": {},
   "source": []
  }
 ],
 "metadata": {
  "kernelspec": {
   "display_name": "Python 3 (ipykernel)",
   "language": "python",
   "name": "python3"
  },
  "language_info": {
   "codemirror_mode": {
    "name": "ipython",
    "version": 3
   },
   "file_extension": ".py",
   "mimetype": "text/x-python",
   "name": "python",
   "nbconvert_exporter": "python",
   "pygments_lexer": "ipython3",
   "version": "3.9.13"
  }
 },
 "nbformat": 4,
 "nbformat_minor": 5
}
