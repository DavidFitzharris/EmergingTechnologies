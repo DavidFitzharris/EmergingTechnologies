{
 "cells": [
  {
   "cell_type": "markdown",
   "id": "68096c0e",
   "metadata": {},
   "source": [
    "<img src=\"imgs\\qiskitlogo.png\" alt=\"Qiskit Logo\" width=\"20%\" height=\"10%\">\n",
    "<h2 style=\"color: rgb(0, 175, 100); text-align: center;\">An Open Source SDK</h2>\n",
    "\n",
    "<hr style=\"border-top: 2px solid rgb(0, 120, 60)\" />"
   ]
  },
  {
   "cell_type": "markdown",
   "id": "9075b31a",
   "metadata": {},
   "source": [
    "<h1 style=\"color: rgb(0, 125, 65)\">Introduction</h1>\n",
    "\n",
    "<hr style=\"border-top: 1px solid rgb(0, 120, 60)\" />\n",
    "\n",
    "<p> Qiskit , created by IBM, is an open-source  software development kit (SDK) for quantum computing. Its name's acronym stands for \"Quantum Information Software Kit\". It is used for working with quantum computers at the level of circuits, algorithms and application modules. It allows for anyone who is willing, to work on quantom computers from home PC's, laptops and other suitable devices. It gives the opportunity for developers, researchers or those just curiose to work in the world of quantum computing, creating things such as building quantum circuits and study quantum phenomena</p>"
   ]
  },
  {
   "cell_type": "markdown",
   "id": "977ba079",
   "metadata": {},
   "source": [
    "<h1 style=\"color: rgb(0, 125, 65)\">Quantum Circuits</h1>\n",
    "\n",
    "<hr style=\"border-top: 1px solid rgb(0, 120, 60)\" />\n",
    "\n",
    "<p>The fundamental unit of Qiskit is the quantum circuit, as discussed earlier. A basic workflow using Qiskit involves two main stages: Build and Run. The Build stage allows you to create various quantum circuits that represent the problem you are trying to solve. These circuits are created by arranging quantum gates to manipulate the states of qubits. Once the circuits are built, the Run stage allows you to execute them on different backends, which can be either quantum simulators or actual quantum hardware. After the jobs have been executed, the data collected is then postprocessed depending on the desired output. Therefore, working with Qiskit essentially involves creating quantum circuits to represent your problem, running them on the desired backend, and then postprocessing the collected data to obtain the final result.(https://qiskit.org/documentation/tutorials/circuits/01_circuit_basics.html) </p>"
   ]
  },
  {
   "cell_type": "markdown",
   "id": "6880c081",
   "metadata": {},
   "source": [
    "<h2 style=\"color: rgb(0, 105, 65)\">Circuit basics</h2>\n",
    "<p><i>Using Qiskit documentation to build a basic quantum circuit</i> <br>\n",
    "    We start by creating a QuantumCircuit comprised of 3 <b>qubits</b>. <br>\n",
    "    A <b>qubit</b>, or 'quantum bit,' is the fundamental unit of quantuminformation. It is similar to a classical bit in computing, which can be either a 0 or a 1. However, a qubit can also exist in a state that is a superposition of both 0 and 1 simultaneously. This property allows the quantum computers to perform multiple calculations at once.<br>\n",
    "<p>"
   ]
  },
  {
   "cell_type": "code",
   "execution_count": 2,
   "id": "c662bb12",
   "metadata": {},
   "outputs": [
    {
     "data": {
      "image/png": "[encoded data removed]",
      "text/plain": [
       "<Figure size 371.107x284.278 with 1 Axes>"
      ]
     },
     "execution_count": 2,
     "metadata": {},
     "output_type": "execute_result"
    }
   ],
   "source": [
    "import numpy as np\n",
    "from qiskit import QuantumCircuit\n",
    "\n",
    "# Building the circuit\n",
    "\n",
    "# Create a Quantum Circuit acting on a quantum register of three qubits\n",
    "circ = QuantumCircuit(3)\n",
    "\n",
    "# Add a H gate on qubit 0, putting this qubit in superposition.\n",
    "circ.h(0)\n",
    "# Add a CX (CNOT) gate on control qubit 0 and target qubit 1, putting\n",
    "# the qubits in a Bell state.\n",
    "circ.cx(0, 1)\n",
    "# Add a CX (CNOT) gate on control qubit 0 and target qubit 2, putting\n",
    "# the qubits in a GHZ state.\n",
    "circ.cx(0, 2)\n",
    "\n",
    "# We can visualise the circuit using QuantumCircuit.draw()\n",
    "circ.draw('mpl')\n"
   ]
  },
  {
   "cell_type": "markdown",
   "id": "45ce40c4",
   "metadata": {},
   "source": [
    "<p>Once the circuit and its registers have been set up, gates (or \"operations\") can be added to modify the registers. The above is an illustration of a quantum circuit designed to generate a GHZ state across three qubits.<br>\n",
    "In this circuit, the qubits are put in order, with qubit zero at the top and qubit two at the bottom. The circuit is read left to right (meaning that gates that are applied earlier in the circuit show up further to the left).</p>"
   ]
  },
  {
   "cell_type": "markdown",
   "id": "b9d01b61",
   "metadata": {},
   "source": [
    "<h3 style=\"color: rgb(0, 105, 65)\">Simulating Circuits</h3>\n",
    "<p>Using quant_info module in qiskit to return the quantum state, the mathematical object that completely describes the condition of a quantum system.<br>\n",
    "This is a complex vector of dimensions 2^N where N is the number of qubits. We must be carefull when scalling up the number of qubits as it will seriously increase the resources required</p>"
   ]
  },
  {
   "cell_type": "code",
   "execution_count": 3,
   "id": "f321643a",
   "metadata": {},
   "outputs": [
    {
     "data": {
      "text/latex": [
       "$$\\frac{\\sqrt{2}}{2} |000\\rangle+\\frac{\\sqrt{2}}{2} |111\\rangle$$"
      ],
      "text/plain": [
       "<IPython.core.display.Latex object>"
      ]
     },
     "execution_count": 3,
     "metadata": {},
     "output_type": "execute_result"
    }
   ],
   "source": [
    "from qiskit.quantum_info import Statevector\n",
    "\n",
    "# Set the initial state of the simulator to the ground state using from_int\n",
    "state = Statevector.from_int(0, 2**3)\n",
    "\n",
    "# Evolve the state by the quantum circuit\n",
    "state = state.evolve(circ)\n",
    "\n",
    "#draw using latex\n",
    "state.draw('latex')"
   ]
  },
  {
   "cell_type": "markdown",
   "id": "50f11f52",
   "metadata": {},
   "source": [
    "<h3 style=\"color: rgb(0, 105, 65)\">Another Quantum Circuit</h3>\n",
    "<p><i>Using docs from IBM to build a basic quantum circuit</i><p>"
   ]
  },
  {
   "cell_type": "code",
   "execution_count": 1,
   "id": "9a5f0601",
   "metadata": {},
   "outputs": [
    {
     "data": {
      "text/plain": [
       "<qiskit.circuit.instructionset.InstructionSet at 0x1c2eca76640>"
      ]
     },
     "execution_count": 1,
     "metadata": {},
     "output_type": "execute_result"
    }
   ],
   "source": [
    "from qiskit import QuantumCircuit, execute, Aer, IBMQ\n",
    "from qiskit.compiler import transpile, assemble\n",
    "from qiskit.tools.jupyter import *\n",
    "from qiskit.visualization import *\n",
    "\n",
    "# Build\n",
    "#------\n",
    " \n",
    "# Create a Quantum Circuit acting on the q register\n",
    "circuit = QuantumCircuit(2, 2)\n",
    " \n",
    "# Add a H gate on qubit 0\n",
    "circuit.h(0)\n",
    " \n",
    "# Add a CX (CNOT) gate on control qubit 0 and target qubit 1\n",
    "circuit.cx(0, 1)\n",
    " \n",
    "# Map the quantum measurement to the classical bits\n",
    "circuit.measure([0,1], [0,1])\n",
    " \n",
    "# END"
   ]
  },
  {
   "cell_type": "code",
   "execution_count": 2,
   "id": "043ddd45",
   "metadata": {},
   "outputs": [
    {
     "name": "stdout",
     "output_type": "stream",
     "text": [
      "\n",
      "Total count for 00 and 11 are: {'11': 512, '00': 488}\n"
     ]
    }
   ],
   "source": [
    "# Execute\n",
    "#--------\n",
    " \n",
    "# Use Aer's qasm_simulator\n",
    "simulator = Aer.get_backend('qasm_simulator')\n",
    " \n",
    "# Execute the circuit on the qasm simulator\n",
    "job = execute(circuit, simulator, shots=1000)\n",
    " \n",
    "# Grab results from the job\n",
    "result = job.result()\n",
    " \n",
    "# Return counts\n",
    "counts = result.get_counts(circuit)\n",
    "print(\"\\nTotal count for 00 and 11 are:\",counts)\n",
    " \n",
    "# END"
   ]
  },
  {
   "cell_type": "code",
   "execution_count": 5,
   "id": "d0e59244",
   "metadata": {},
   "outputs": [
    {
     "data": {
      "image/png": "[encoded data removed]",
      "text/plain": [
       "<Figure size 454.517x284.278 with 1 Axes>"
      ]
     },
     "execution_count": 5,
     "metadata": {},
     "output_type": "execute_result"
    }
   ],
   "source": [
    "# Visualize\n",
    "#----------\n",
    " \n",
    "# Using QuantumCircuit.draw(), as in previous example\n",
    "circuit.draw('mpl')\n",
    " "
   ]
  },
  {
   "cell_type": "code",
   "execution_count": 6,
   "id": "e3d8e1e4",
   "metadata": {},
   "outputs": [
    {
     "data": {
      "image/png": "[encoded data removed]",
      "text/plain": [
       "<Figure size 700x500 with 1 Axes>"
      ]
     },
     "execution_count": 6,
     "metadata": {},
     "output_type": "execute_result"
    }
   ],
   "source": [
    "# Analyze\n",
    "#--------\n",
    " \n",
    "# Plot a histogram\n",
    "plot_histogram(counts)\n",
    "\n",
    "# END\n"
   ]
  }
 ],
 "metadata": {
  "kernelspec": {
   "display_name": "Python 3 (ipykernel)",
   "language": "python",
   "name": "python3"
  },
  "language_info": {
   "codemirror_mode": {
    "name": "ipython",
    "version": 3
   },
   "file_extension": ".py",
   "mimetype": "text/x-python",
   "name": "python",
   "nbconvert_exporter": "python",
   "pygments_lexer": "ipython3",
   "version": "3.9.13"
  }
 },
 "nbformat": 4,
 "nbformat_minor": 5
}
